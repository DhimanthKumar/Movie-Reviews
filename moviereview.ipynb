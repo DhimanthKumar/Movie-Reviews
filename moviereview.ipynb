{
 "cells": [
  {
   "cell_type": "code",
   "execution_count": 4,
   "id": "4e1282fd",
   "metadata": {
    "id": "4e1282fd"
   },
   "outputs": [],
   "source": [
    "import torch\n",
    "import torch.nn as nn\n",
    "from torch.utils.data import Dataset, DataLoader\n",
    "import pandas as pd\n",
    "import numpy as np\n",
    "from sklearn.model_selection import train_test_split\n",
    "from sklearn.preprocessing import LabelEncoder\n",
    "from torch.nn.utils.rnn import pad_sequence\n",
    "from collections import Counter\n",
    "import re\n",
    "import os\n",
    "\n",
    "# ========== Step 1: Load Data ==========\n",
    "def load_data():\n",
    "    with open(\"reviews.txt\", \"r\", encoding=\"utf-8\") as f:\n",
    "        reviews = [line.strip() for line in f.readlines()]\n",
    "    with open(\"labels.txt\", \"r\", encoding=\"utf-8\") as f:\n",
    "        labels = [line.strip().lower() for line in f.readlines()]\n",
    "    print(f\"✅ Loaded {len(reviews)} reviews and {len(labels)} labels.\")\n",
    "    return reviews, labels"
   ]
  },
  {
   "cell_type": "code",
   "execution_count": 5,
   "id": "c9e0b14d",
   "metadata": {
    "id": "c9e0b14d"
   },
   "outputs": [],
   "source": [
    "# ========== Step 2: Preprocessing ==========\n",
    "def preprocess(text):\n",
    "    text = text.lower()\n",
    "    text = re.sub(r\"[^a-z\\s]\", \"\", text)\n",
    "    return text.split()\n",
    "\n",
    "# ========== Step 3: Build Vocabulary ==========\n",
    "def build_vocab(tokenized_reviews, min_freq=2):\n",
    "    counter = Counter()\n",
    "    for tokens in tokenized_reviews:\n",
    "        counter.update(tokens)\n",
    "    vocab = {\"<PAD>\": 0, \"<UNK>\": 1}\n",
    "    for word, freq in counter.items():\n",
    "        if freq >= min_freq:\n",
    "            vocab[word] = len(vocab)\n",
    "    print(f\"✅ Vocabulary size: {len(vocab)} (min_freq={min_freq})\")\n",
    "    return vocab\n",
    "\n",
    "def encode_review(tokens, vocab):\n",
    "    return [vocab.get(token, vocab[\"<UNK>\"]) for token in tokens]"
   ]
  },
  {
   "cell_type": "code",
   "execution_count": 6,
   "id": "8b848cea",
   "metadata": {
    "id": "8b848cea"
   },
   "outputs": [],
   "source": [
    "# ========== Step 4: Dataset & DataLoader ==========\n",
    "class ReviewDataset(Dataset):\n",
    "    def __init__(self, reviews, labels, vocab):\n",
    "        self.encoded_reviews = [torch.tensor(encode_review(tokens, vocab)) for tokens in reviews]\n",
    "        self.labels = torch.tensor(labels, dtype=torch.float32)\n",
    "\n",
    "    def __len__(self):\n",
    "        return len(self.labels)\n",
    "\n",
    "    def __getitem__(self, idx):\n",
    "        return self.encoded_reviews[idx], self.labels[idx]\n",
    "\n",
    "def collate_fn(batch):\n",
    "    reviews, labels = zip(*batch)\n",
    "    padded_reviews = pad_sequence(reviews, batch_first=True)\n",
    "    labels = torch.tensor(labels)\n",
    "    return padded_reviews, labels"
   ]
  },
  {
   "cell_type": "code",
   "execution_count": 7,
   "id": "175459db",
   "metadata": {
    "id": "175459db"
   },
   "outputs": [],
   "source": [
    "# ========== Step 5: LSTM Model ==========\n",
    "class SentimentLSTM(nn.Module):\n",
    "    def __init__(self, vocab_size, embed_dim, hidden_dim):\n",
    "        super(SentimentLSTM, self).__init__()\n",
    "        self.embedding = nn.Embedding(vocab_size, embed_dim, padding_idx=0)\n",
    "        self.lstm = nn.LSTM(embed_dim, hidden_dim, batch_first=True)\n",
    "        self.fc = nn.Linear(hidden_dim, 1)\n",
    "        self.sigmoid = nn.Sigmoid()\n",
    "\n",
    "    def forward(self, x):\n",
    "        embeds = self.embedding(x)\n",
    "        _, (hidden, _) = self.lstm(embeds)\n",
    "        out = self.fc(hidden[-1])\n",
    "        return self.sigmoid(out).squeeze()"
   ]
  },
  {
   "cell_type": "code",
   "execution_count": 38,
   "id": "0369b8bd",
   "metadata": {
    "id": "0369b8bd"
   },
   "outputs": [],
   "source": [
    "# ========== Step 6: Training ==========\n",
    "def train_model(model, dataloader, epochs=2000, save_every=500, save_path=\"checkpoints\"):\n",
    "    criterion = nn.BCELoss()\n",
    "    optimizer = torch.optim.Adam(model.parameters(), lr=0.001)\n",
    "    model.train()\n",
    "    device = next(model.parameters()).device\n",
    "\n",
    "    os.makedirs(save_path, exist_ok=True)\n",
    "\n",
    "    for epoch in range(epochs):\n",
    "        total_loss = 0\n",
    "        for batch_x, batch_y in dataloader:\n",
    "            batch_x, batch_y = batch_x.to(device), batch_y.to(device)\n",
    "            output = model(batch_x)\n",
    "            loss = criterion(output, batch_y)\n",
    "            optimizer.zero_grad()\n",
    "            loss.backward()\n",
    "            optimizer.step()\n",
    "            total_loss += loss.item()\n",
    "\n",
    "        avg_loss = total_loss / len(dataloader)\n",
    "\n",
    "\n",
    "        # Save model every `save_every` epochs\n",
    "        if (epoch + 1) % 20 == 0:\n",
    "            print(f\"Epoch {epoch+1}, Loss: {avg_loss:.4f}\")\n",
    "            checkpoint_file = os.path.join(save_path, f\"model_epoch{epoch+1}.pt\")\n",
    "            torch.save(model.state_dict(), checkpoint_file)\n",
    "            print(f\"✅ Saved model checkpoint to: {checkpoint_file}\")"
   ]
  },
  {
   "cell_type": "code",
   "execution_count": 39,
   "id": "d852c5f1",
   "metadata": {
    "id": "d852c5f1"
   },
   "outputs": [],
   "source": [
    "# ========== Step 7: Predict ==========\n",
    "def predict(model, review, vocab):\n",
    "    model.eval()\n",
    "    device = next(model.parameters()).device\n",
    "    tokens = preprocess(review)\n",
    "    print(f\"📝 Tokenized: {tokens}\")\n",
    "    encoded = torch.tensor([encode_review(tokens, vocab)]).to(device)\n",
    "    print(f\"🔢 Encoded: {encoded}\")\n",
    "    with torch.no_grad():\n",
    "        output = model(encoded)\n",
    "        print(f\"📈 Raw Score: {output.item():.4f}\")\n",
    "        prediction = \"positive\" if output.item() > 0.5 else \"negative\"\n",
    "        print(f\"🧠 Review: \\\"{review}\\\"\\n🎯 Prediction: {prediction}\\n\")"
   ]
  },
  {
   "cell_type": "code",
   "execution_count": 40,
   "id": "125639b1",
   "metadata": {
    "colab": {
     "base_uri": "https://localhost:8080/"
    },
    "id": "125639b1",
    "outputId": "bacecf85-0c05-41f5-b7f0-c13ba101de79"
   },
   "outputs": [
    {
     "name": "stdout",
     "output_type": "stream",
     "text": [
      "🚀 Loading and preparing data...\n",
      "✅ Loaded 25000 reviews and 25000 labels.\n",
      "🧹 Sample tokens: ['bromwell', 'high', 'is', 'a', 'cartoon', 'comedy', 'it', 'ran', 'at', 'the']\n",
      "✅ Vocabulary size: 8986 (min_freq=2)\n",
      "🔠 Label Mapping: {np.str_('negative'): np.int64(0), np.str_('positive'): np.int64(1)}\n",
      "📊 Split: 800 train / 200 test\n",
      "🧠 Starting training...\n",
      "Epoch 20, Loss: 0.6752\n",
      "✅ Saved model checkpoint to: checkpoints/model_epoch20.pt\n",
      "Epoch 40, Loss: 0.6730\n",
      "✅ Saved model checkpoint to: checkpoints/model_epoch40.pt\n",
      "\n",
      "🔍 Testing predictions on sample reviews...\n",
      "📝 Tokenized: ['this', 'movie', 'was', 'absolutely', 'wonderful']\n",
      "🔢 Encoded: tensor([[ 319,  636,  413, 1865, 1621]], device='cuda:0')\n",
      "📈 Raw Score: 0.6197\n",
      "🧠 Review: \"This movie was absolutely wonderful!\"\n",
      "🎯 Prediction: positive\n",
      "\n",
      "📝 Tokenized: ['worst', 'film', 'i', 'have', 'ever', 'seen']\n",
      "🔢 Encoded: tensor([[800, 320,  56, 428, 604, 155]], device='cuda:0')\n",
      "📈 Raw Score: 0.0535\n",
      "🧠 Review: \"Worst film I have ever seen.\"\n",
      "🎯 Prediction: negative\n",
      "\n"
     ]
    }
   ],
   "source": [
    "# ========== Main ==========\n",
    "if __name__ == \"__main__\":\n",
    "    print(\"🚀 Loading and preparing data...\")\n",
    "    raw_reviews, raw_labels = load_data()\n",
    "    raw_reviews = raw_reviews\n",
    "    raw_labels = raw_labels\n",
    "\n",
    "    tokenized_reviews = [preprocess(r) for r in raw_reviews]\n",
    "    print(f\"🧹 Sample tokens: {tokenized_reviews[0][:10]}\")\n",
    "    device = torch.device(\"cuda\" if torch.cuda.is_available() else \"cpu\")\n",
    "\n",
    "    vocab = build_vocab(tokenized_reviews)\n",
    "    le = LabelEncoder()\n",
    "    numeric_labels = le.fit_transform(raw_labels)  # 0 = negative, 1 = positive\n",
    "    print(f\"🔠 Label Mapping: {dict(zip(le.classes_, le.transform(le.classes_)))}\")\n",
    "\n",
    "    X_train, X_test, y_train, y_test = train_test_split(\n",
    "        tokenized_reviews, numeric_labels, test_size=0.2, random_state=42)\n",
    "\n",
    "    print(f\"📊 Split: {len(X_train)} train / {len(X_test)} test\")\n",
    "\n",
    "    train_dataset = ReviewDataset(X_train, y_train, vocab)\n",
    "    train_loader = DataLoader(train_dataset, batch_size=32, shuffle=True, collate_fn=collate_fn)\n",
    "\n",
    "    model = SentimentLSTM(vocab_size=len(vocab), embed_dim=100, hidden_dim=128)\n",
    "    print(\"🧠 Starting training...\")\n",
    "    model = model.to(device)\n",
    "\n",
    "    train_model(model, train_loader, epochs=50,save_every=20)\n",
    "\n",
    "    print(\"\\n🔍 Testing predictions on sample reviews...\")\n",
    "    predict(model, \"This movie was absolutely wonderful!\", vocab)\n",
    "    predict(model, \"Worst film I have ever seen.\", vocab)"
   ]
  },
  {
   "cell_type": "code",
   "execution_count": 30,
   "id": "EgBES7G8wNRo",
   "metadata": {
    "id": "EgBES7G8wNRo"
   },
   "outputs": [],
   "source": []
  }
 ],
 "metadata": {
  "accelerator": "GPU",
  "colab": {
   "gpuType": "T4",
   "provenance": []
  },
  "kernelspec": {
   "display_name": "Python 3 (ipykernel)",
   "language": "python",
   "name": "python3"
  },
  "language_info": {
   "codemirror_mode": {
    "name": "ipython",
    "version": 3
   },
   "file_extension": ".py",
   "mimetype": "text/x-python",
   "name": "python",
   "nbconvert_exporter": "python",
   "pygments_lexer": "ipython3",
   "version": "3.11.5"
  }
 },
 "nbformat": 4,
 "nbformat_minor": 5
}
